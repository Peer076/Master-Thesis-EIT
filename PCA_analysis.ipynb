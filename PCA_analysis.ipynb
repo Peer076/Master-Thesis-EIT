{
 "cells": [
  {
   "cell_type": "code",
   "execution_count": 1,
   "id": "0123cf30-6a28-4f4e-87a9-ac5a8b9bbf6f",
   "metadata": {},
   "outputs": [],
   "source": [
    "from glob import glob\n",
    "import numpy as np\n",
    "from sklearn.decomposition import PCA\n",
    "import matplotlib.pyplot as plt\n",
    "from src.util import (load_exp_data, pca, load_sim_data)"
   ]
  },
  {
   "cell_type": "code",
   "execution_count": 6,
   "id": "1a296a39-da55-4114-9d47-a1075bdb297c",
   "metadata": {},
   "outputs": [
    {
     "name": "stdout",
     "output_type": "stream",
     "text": [
      "Shape of abs_voltage: (1000, 32, 32)\n"
     ]
    }
   ],
   "source": [
    "import numpy as np\n",
    "\n",
    "voltage = load_exp_data(\"exp_data\")\n",
    "voltage_sim, _ , _ = load_sim_data(\"data12\")\n",
    "\n",
    "voltage = voltage[1:] \n",
    "\n",
    "mean_voltage = np.mean(voltage, axis=1) \n",
    "\n",
    "abs_voltage = np.abs(mean_voltage)  \n",
    "\n",
    "print(\"Shape of abs_voltage:\", abs_voltage.shape)\n",
    "#print(\"Shape of voltage_sim:\", voltage_sim.shape)"
   ]
  },
  {
   "cell_type": "code",
   "execution_count": 7,
   "id": "5707b00a-421e-4a7e-bd52-9b8e3dd759e4",
   "metadata": {},
   "outputs": [
    {
     "data": {
      "text/plain": [
       "(1000, 192)"
      ]
     },
     "execution_count": 7,
     "metadata": {},
     "output_type": "execute_result"
    }
   ],
   "source": [
    "voltage_sim.shape"
   ]
  },
  {
   "cell_type": "code",
   "execution_count": 8,
   "id": "d439ec24-35b9-4931-93e9-f6817cee7798",
   "metadata": {},
   "outputs": [
    {
     "name": "stdout",
     "output_type": "stream",
     "text": [
      "Shape of reshaped_voltage: (1000, 1024)\n"
     ]
    }
   ],
   "source": [
    "v = abs_voltage.reshape(1000, -1)  \n",
    "\n",
    "# Shape-Check\n",
    "print(\"Shape of reshaped_voltage:\", v.shape)"
   ]
  },
  {
   "cell_type": "code",
   "execution_count": 9,
   "id": "3f6e0c0d-b569-4606-96fe-aed49fc9e158",
   "metadata": {},
   "outputs": [],
   "source": [
    "angle = np.linspace(0,2*np.pi, 1000)\n",
    "angle = np.degrees(angle)"
   ]
  },
  {
   "cell_type": "code",
   "execution_count": 22,
   "id": "3b605f3f-b446-472b-ba74-bdae286c0a64",
   "metadata": {},
   "outputs": [],
   "source": [
    "def pca(V, angle, ax, title):\n",
    "    pca = PCA(n_components=2)\n",
    "    V_pca = pca.fit_transform(V)\n",
    "\n",
    "    scatter = ax.scatter(V_pca[:, 0], V_pca[:, 1], c=angle, cmap='viridis')\n",
    "    ax.set_title(title)\n",
    "    ax.set_xlabel('Hauptkomponente 1 (PC1)')\n",
    "    ax.set_ylabel('Hauptkomponente 2 (PC2)')\n",
    "    ax.set_aspect('equal')  # Gleiche Skalierung der Achsen\n",
    "\n",
    "fig, axs = plt.subplots(1, 2, figsize=(14, 6))\n",
    "fig.suptitle('Vergleich der PCA-Visualisierungen für Kreisbahn mit r_path = 0.5 und Kugelradius 20 mm')\n",
    "\n",
    "pca(v, angle, axs[0], 'PCA von experimentellen gemittelten EIT-Daten')\n",
    "pca(voltage_sim, angle, axs[1], 'PCA von simulierten EIT-Daten')\n",
    "\n",
    "plt.savefig('PCA_Analyse1', format='pdf')\n",
    "plt.close(fig)  # Schließt die Figur, um Speicher zu sparen\n"
   ]
  },
  {
   "cell_type": "code",
   "execution_count": null,
   "id": "f5265c6c-8518-42f8-9c26-6764f1e49bb5",
   "metadata": {},
   "outputs": [],
   "source": []
  }
 ],
 "metadata": {
  "kernelspec": {
   "display_name": "Python 3 (ipykernel)",
   "language": "python",
   "name": "python3"
  },
  "language_info": {
   "codemirror_mode": {
    "name": "ipython",
    "version": 3
   },
   "file_extension": ".py",
   "mimetype": "text/x-python",
   "name": "python",
   "nbconvert_exporter": "python",
   "pygments_lexer": "ipython3",
   "version": "3.12.2"
  }
 },
 "nbformat": 4,
 "nbformat_minor": 5
}
