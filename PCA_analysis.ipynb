{
 "cells": [
  {
   "cell_type": "code",
   "execution_count": 1,
   "id": "0123cf30-6a28-4f4e-87a9-ac5a8b9bbf6f",
   "metadata": {},
   "outputs": [],
   "source": [
    "from glob import glob\n",
    "import numpy as np\n",
    "from sklearn.decomposition import PCA\n",
    "import matplotlib.pyplot as plt\n",
    "from src.util import (load_exp_data, pca, load_sim_data)"
   ]
  },
  {
   "cell_type": "code",
   "execution_count": 2,
   "id": "1a296a39-da55-4114-9d47-a1075bdb297c",
   "metadata": {},
   "outputs": [
    {
     "ename": "ValueError",
     "evalue": "too many values to unpack (expected 3)",
     "output_type": "error",
     "traceback": [
      "\u001b[0;31m---------------------------------------------------------------------------\u001b[0m",
      "\u001b[0;31mValueError\u001b[0m                                Traceback (most recent call last)",
      "Cell \u001b[0;32mIn[2], line 3\u001b[0m\n\u001b[1;32m      1\u001b[0m \u001b[38;5;28;01mimport\u001b[39;00m \u001b[38;5;21;01mnumpy\u001b[39;00m \u001b[38;5;28;01mas\u001b[39;00m \u001b[38;5;21;01mnp\u001b[39;00m\n\u001b[0;32m----> 3\u001b[0m voltage, temp, timestamp \u001b[38;5;241m=\u001b[39m load_exp_data(\u001b[38;5;124m\"\u001b[39m\u001b[38;5;124mexp_data7\u001b[39m\u001b[38;5;124m\"\u001b[39m)\n\u001b[1;32m      4\u001b[0m voltage_sim, _ , _ \u001b[38;5;241m=\u001b[39m load_sim_data(\u001b[38;5;124m\"\u001b[39m\u001b[38;5;124mdata15\u001b[39m\u001b[38;5;124m\"\u001b[39m)\n",
      "\u001b[0;31mValueError\u001b[0m: too many values to unpack (expected 3)"
     ]
    }
   ],
   "source": [
    "import numpy as np\n",
    "\n",
    "voltage, temp, timestamp = load_exp_data(\"exp_data7\")\n",
    "voltage_sim, _ , _ = load_sim_data(\"data15\")\n"
   ]
  },
  {
   "cell_type": "code",
   "execution_count": null,
   "id": "c8cd11be-7d0d-465f-8b12-8aca610dea14",
   "metadata": {},
   "outputs": [],
   "source": [
    "mean_voltage = np.mean(voltage, axis=0)     \n",
    "\n",
    "voltage = (voltage - mean_voltage)\n",
    "\n",
    "empty_tank = voltage[0]\n",
    "voltage = voltage[1:] \n",
    "\n",
    "differenced_voltage = voltage - empty_tank  "
   ]
  },
  {
   "cell_type": "code",
   "execution_count": null,
   "id": "73f1c79f-6f67-4a99-b3a4-51ecb2ad40bd",
   "metadata": {},
   "outputs": [],
   "source": [
    "new_temp=temp[1:]\n",
    "new_temp.shape\n",
    "\n",
    "plt.plot(new_temp)\n",
    "\n",
    "plt.show()\n"
   ]
  },
  {
   "cell_type": "code",
   "execution_count": null,
   "id": "5f80afb3-0e0a-48e4-9c11-5931e92639bf",
   "metadata": {},
   "outputs": [],
   "source": [
    "voltage_1st = voltage[:, 0, :, :]  # 1. Messung\n",
    "voltage_2nd = voltage[:, 1, :, :]  # 2. Messung\n",
    "voltage_3rd = voltage[:, 2, :, :]  # 3. Messung\n",
    "voltage_4th = voltage[:, 3, :, :]  # 4. Messung\n",
    "voltage_5th = voltage[:, 4, :, :]  # 5. Messung\n",
    "\n",
    "mean_voltage = np.mean(voltage, axis=1) \n",
    "mean_diff_voltage = np.mean(differenced_voltage, axis=1)\n",
    "abs_voltage = np.abs(mean_voltage)\n",
    "abs_diff_voltage = np.abs(mean_diff_voltage)\n",
    "\n",
    "print(\"Shape of abs_voltage:\", abs_voltage.shape)\n",
    "#print(\"Shape of voltage_sim:\", voltage_sim.shape)\n",
    "\n",
    "abs_voltage_1st = np.abs(voltage_1st)\n",
    "abs_voltage_2nd = np.abs(voltage_2nd)\n",
    "abs_voltage_3rd = np.abs(voltage_3rd)\n",
    "abs_voltage_4th = np.abs(voltage_4th)\n",
    "abs_voltage_5th = np.abs(voltage_5th)\n",
    "\n",
    "mean_voltage.shape"
   ]
  },
  {
   "cell_type": "code",
   "execution_count": null,
   "id": "d439ec24-35b9-4931-93e9-f6817cee7798",
   "metadata": {},
   "outputs": [],
   "source": [
    "v = abs_voltage.reshape(1000, -1)  \n",
    "v1 = abs_voltage_1st.reshape(1000, -1)\n",
    "v2 = abs_voltage_2nd.reshape(1000,-1)\n",
    "v3 = abs_voltage_3rd.reshape(1000,-1)\n",
    "v4 = abs_voltage_4th.reshape(1000,-1)\n",
    "v5 = abs_voltage_5th.reshape(1000,-1)\n",
    "dv = abs_diff_voltage = abs_diff_voltage.reshape(1000,-1)\n",
    "dv.shape, v5.shape"
   ]
  },
  {
   "cell_type": "code",
   "execution_count": null,
   "id": "3f6e0c0d-b569-4606-96fe-aed49fc9e158",
   "metadata": {},
   "outputs": [],
   "source": [
    "angle = np.linspace(0,2*np.pi, 1000)\n",
    "angle = np.degrees(angle)"
   ]
  },
  {
   "cell_type": "code",
   "execution_count": null,
   "id": "3b605f3f-b446-472b-ba74-bdae286c0a64",
   "metadata": {},
   "outputs": [],
   "source": [
    "def pca(V, angle, ax, title):\n",
    "    pca = PCA(n_components=2)\n",
    "    V_pca = pca.fit_transform(V)\n",
    "\n",
    "    scatter = ax.scatter(V_pca[:, 0], V_pca[:, 1], c=angle, cmap='viridis')\n",
    "    ax.set_title(title)\n",
    "    ax.set_xlabel('Hauptkomponente 1 (PC1)')\n",
    "    ax.set_ylabel('Hauptkomponente 2 (PC2)')\n",
    "    ax.set_aspect('equal')  # Gleiche Skalierung der Achsen\n",
    "\n",
    "fig, axs = plt.subplots(1, 2, figsize=(14, 6))\n",
    "fig.suptitle('Vergleich der PCA-Visualisierungen für Kreisbahn mit r_path = 0.75 und Kugelradius 20 mm')\n",
    "\n",
    "pca(v, angle, axs[0], 'PCA von experimentellen gemittelten EIT-Daten')\n",
    "pca(voltage_sim, angle, axs[1], 'PCA von simulierten EIT-Daten')\n",
    "\n",
    "#plt.savefig('PCA_Analyse1.pdf', format='pdf')\n"
   ]
  },
  {
   "cell_type": "code",
   "execution_count": null,
   "id": "ca8ec5d6-f6c3-4d6f-aca2-e12d7d311a37",
   "metadata": {},
   "outputs": [],
   "source": [
    "fig, axs = plt.subplots(1, 2, figsize=(14, 6))\n",
    "fig.suptitle('Vergleich der PCA-Visualisierungen für Kreisbahn mit r_path = 0.75 und Kugelradius 20 mm')\n",
    "\n",
    "pca(v1, angle, axs[0], 'PCA von experimentellen EIT-Daten (1. Durchlauf)')\n",
    "pca(voltage_sim, angle, axs[1], 'PCA von simulierten EIT-Daten')\n",
    "\n",
    "#plt.savefig('PCA_Analyse2.pdf', format='pdf')"
   ]
  },
  {
   "cell_type": "code",
   "execution_count": null,
   "id": "f5265c6c-8518-42f8-9c26-6764f1e49bb5",
   "metadata": {},
   "outputs": [],
   "source": [
    "fig, axs = plt.subplots(1, 2, figsize=(14, 6))\n",
    "fig.suptitle('Vergleich der PCA-Visualisierungen für Kreisbahn mit r_path = 0.75 und Kugelradius 20 mm')\n",
    "\n",
    "pca(v2, angle, axs[0], 'PCA von experimentellen EIT-Daten (2. Durchlauf)')\n",
    "pca(voltage_sim, angle, axs[1], 'PCA von simulierten EIT-Daten')\n",
    "\n",
    "#plt.savefig('PCA_Analyse3.pdf', format='pdf')"
   ]
  },
  {
   "cell_type": "code",
   "execution_count": null,
   "id": "e72aab87-5a1c-4ace-98cb-35926d4aa8fb",
   "metadata": {},
   "outputs": [],
   "source": [
    "fig, axs = plt.subplots(1, 2, figsize=(14, 6))\n",
    "fig.suptitle('Vergleich der PCA-Visualisierungen für Kreisbahn mit r_path = 0.75 und Kugelradius 20 mm')\n",
    "\n",
    "pca(v3, angle, axs[0], 'PCA von experimentellen EIT-Daten (3. Durchlauf)')\n",
    "pca(voltage_sim, angle, axs[1], 'PCA von simulierten EIT-Daten')\n",
    "\n",
    "#plt.savefig('PCA_Analyse4.pdf', format='pdf')"
   ]
  },
  {
   "cell_type": "code",
   "execution_count": null,
   "id": "d640229e-f2c0-43e4-8cec-5f036331c519",
   "metadata": {},
   "outputs": [],
   "source": [
    "fig, axs = plt.subplots(1, 2, figsize=(14, 6))\n",
    "fig.suptitle('Vergleich der PCA-Visualisierungen für Kreisbahn mit r_path = 0.75 und Kugelradius 20 mm')\n",
    "\n",
    "pca(v4, angle, axs[0], 'PCA von experimentellen EIT-Daten (4. Durchlauf)')\n",
    "pca(voltage_sim, angle, axs[1], 'PCA von simulierten EIT-Daten')\n",
    "\n",
    "#plt.savefig('PCA_Analyse5.pdf', format='pdf')"
   ]
  },
  {
   "cell_type": "code",
   "execution_count": null,
   "id": "4f95fe7a-eb90-4d09-a2f4-61f138e5a26c",
   "metadata": {},
   "outputs": [],
   "source": [
    "fig, axs = plt.subplots(1, 2, figsize=(14, 6))\n",
    "fig.suptitle('Vergleich der PCA-Visualisierungen für Kreisbahn mit r_path = 0.75 und Kugelradius 20 mm')\n",
    "\n",
    "pca(v5, angle, axs[0], 'PCA von experimentellen EIT-Daten (5. Durchlauf)')\n",
    "pca(voltage_sim, angle, axs[1], 'PCA von simulierten EIT-Daten')\n",
    "\n",
    "#plt.savefig('PCA_Analyse6.pdf', format='pdf')"
   ]
  },
  {
   "cell_type": "code",
   "execution_count": null,
   "id": "c6bcddc6-0589-481d-80e4-33d35c3415ba",
   "metadata": {},
   "outputs": [],
   "source": [
    "fig, axs = plt.subplots(1, 2, figsize=(14, 6))\n",
    "fig.suptitle('Vergleich der PCA-Visualisierungen für Kreisbahn mit r_path = 0.75 und Kugelradius 20 mm')\n",
    "\n",
    "pca(dv, angle, axs[0], 'PCA von experimentellen gemittelten relativen EIT-Daten')\n",
    "pca(voltage_sim, angle, axs[1], 'PCA von simulierten EIT-Daten')\n",
    "\n",
    "#plt.savefig('PCA_Analyse7.pdf', format='pdf')"
   ]
  },
  {
   "cell_type": "code",
   "execution_count": null,
   "id": "6eeb7fa1-b0bf-4586-a502-c410649a06d1",
   "metadata": {},
   "outputs": [],
   "source": []
  }
 ],
 "metadata": {
  "kernelspec": {
   "display_name": "Python 3 (ipykernel)",
   "language": "python",
   "name": "python3"
  },
  "language_info": {
   "codemirror_mode": {
    "name": "ipython",
    "version": 3
   },
   "file_extension": ".py",
   "mimetype": "text/x-python",
   "name": "python",
   "nbconvert_exporter": "python",
   "pygments_lexer": "ipython3",
   "version": "3.12.2"
  }
 },
 "nbformat": 4,
 "nbformat_minor": 5
}
