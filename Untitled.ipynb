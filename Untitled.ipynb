{
 "cells": [
  {
   "cell_type": "code",
   "execution_count": 1,
   "id": "965d7152-16a8-42f3-a52e-40305bf8a778",
   "metadata": {},
   "outputs": [],
   "source": [
    "import numpy as np\n",
    "import matplotlib.pyplot as plt\n",
    "from pyeit import mesh"
   ]
  },
  {
   "cell_type": "code",
   "execution_count": 2,
   "id": "fbcf5b7e-48f4-4df3-b30b-a7aea0508ecb",
   "metadata": {},
   "outputs": [],
   "source": [
    "n_el = 32\n",
    "n_samples = 10_000\n",
    "noise = 0.5  # Standard deviation of the Gaussian distributed noise (spread or \"width\")\n",
    "balloon_perm = 10"
   ]
  },
  {
   "cell_type": "code",
   "execution_count": 3,
   "id": "5252b040-1d44-4113-b88e-a8b4ab177354",
   "metadata": {},
   "outputs": [],
   "source": [
    "# create uniform distributed radii\n",
    "rs = np.random.uniform(low=0, high=0.6, size=n_samples)"
   ]
  },
  {
   "cell_type": "code",
   "execution_count": 4,
   "id": "990b4e1e-ba46-4b21-a760-213b13256d1d",
   "metadata": {},
   "outputs": [
    {
     "data": {
      "image/png": "[encoded data removed]",
      "text/plain": [
       "<Figure size 400x200 with 1 Axes>"
      ]
     },
     "metadata": {},
     "output_type": "display_data"
    }
   ],
   "source": [
    "plt.figure(figsize=(4, 2))\n",
    "plt.hist(rs, bins=25)\n",
    "plt.xlabel(\"$r$\")\n",
    "plt.ylabel(\"Count\")\n",
    "plt.show()"
   ]
  },
  {
   "cell_type": "code",
   "execution_count": 5,
   "id": "ad96abc0-22e6-44c5-996b-96e779adec26",
   "metadata": {},
   "outputs": [],
   "source": [
    "# Create mesh\n",
    "mesh_obj = mesh.create(n_el=32, h0=0.05)"
   ]
  },
  {
   "cell_type": "code",
   "execution_count": 6,
   "id": "8d276dcd-db6a-419e-88e5-929ad6e1fbeb",
   "metadata": {},
   "outputs": [],
   "source": [
    "γ = list()\n",
    "\n",
    "for r in rs:\n",
    "    balloon_anmly = mesh.wrapper.PyEITAnomaly_Circle(\n",
    "        center=[0, 0], r=r, perm=balloon_perm\n",
    "    )\n",
    "    mesh_obj = mesh.set_perm(mesh_obj, anomaly=balloon_anmly, background=1.0)\n",
    "    perm_noisy = mesh_obj.perm_array + np.random.normal(scale=0.5, size=mesh_obj.perm_array.shape[0])\n",
    "    γ.append(perm_noisy)\n",
    "    if n_samples <= 5:\n",
    "        plot_mesh_permarray(mesh_obj, perm_noisy)\n",
    "\n",
    "γ = np.array(γ) / 15  # !!! Divided by 15\n",
    "γ = np.expand_dims(γ, axis=2)\n",
    "assert γ.shape[0] == n_samples, \"Something went wrong.\" #Bedingung wird überprüft und sichergestellt, dass die bestimmte Annahme im Code wahr ist. Wenn Bedingung nicht erfüllt, löst assert einen Error aus"
   ]
  },
  {
   "cell_type": "code",
   "execution_count": 8,
   "id": "5908953c-b88f-48c3-ac56-38f2cbd22360",
   "metadata": {},
   "outputs": [
    {
     "name": "stdout",
     "output_type": "stream",
     "text": [
      "[[[ 0.07990898]\n",
      "  [ 0.06320946]\n",
      "  [ 0.11716887]\n",
      "  ...\n",
      "  [ 0.08240582]\n",
      "  [ 0.11392464]\n",
      "  [ 0.03485491]]\n",
      "\n",
      " [[ 0.14257876]\n",
      "  [ 0.04932459]\n",
      "  [ 0.09099869]\n",
      "  ...\n",
      "  [ 0.08384966]\n",
      "  [ 0.03558471]\n",
      "  [ 0.05669113]]\n",
      "\n",
      " [[ 0.12394934]\n",
      "  [ 0.06012885]\n",
      "  [ 0.14313675]\n",
      "  ...\n",
      "  [ 0.0449833 ]\n",
      "  [ 0.10146325]\n",
      "  [ 0.07021455]]\n",
      "\n",
      " ...\n",
      "\n",
      " [[ 0.07684589]\n",
      "  [ 0.06095766]\n",
      "  [ 0.03856307]\n",
      "  ...\n",
      "  [ 0.02300356]\n",
      "  [ 0.08707734]\n",
      "  [ 0.0656935 ]]\n",
      "\n",
      " [[ 0.12901526]\n",
      "  [ 0.02321199]\n",
      "  [ 0.07191924]\n",
      "  ...\n",
      "  [ 0.07304755]\n",
      "  [ 0.10833433]\n",
      "  [ 0.09028825]]\n",
      "\n",
      " [[ 0.15253225]\n",
      "  [-0.00424224]\n",
      "  [ 0.1028757 ]\n",
      "  ...\n",
      "  [ 0.06836962]\n",
      "  [ 0.01182244]\n",
      "  [ 0.03811046]]]\n"
     ]
    },
    {
     "data": {
      "text/plain": [
       "(10000, 2840, 1)"
      ]
     },
     "execution_count": 8,
     "metadata": {},
     "output_type": "execute_result"
    }
   ],
   "source": [
    "print(γ)\n",
    "\n",
    "γ.shape"
   ]
  },
  {
   "cell_type": "code",
   "execution_count": null,
   "id": "ca6ed43d-1184-4548-b651-e3f6f9783467",
   "metadata": {},
   "outputs": [],
   "source": []
  },
  {
   "cell_type": "code",
   "execution_count": null,
   "id": "b87b084e-9215-4ac8-9f2c-4252131dce8d",
   "metadata": {},
   "outputs": [],
   "source": []
  }
 ],
 "metadata": {
  "kernelspec": {
   "display_name": "Python 3 (ipykernel)",
   "language": "python",
   "name": "python3"
  },
  "language_info": {
   "codemirror_mode": {
    "name": "ipython",
    "version": 3
   },
   "file_extension": ".py",
   "mimetype": "text/x-python",
   "name": "python",
   "nbconvert_exporter": "python",
   "pygments_lexer": "ipython3",
   "version": "3.12.2"
  }
 },
 "nbformat": 4,
 "nbformat_minor": 5
}
