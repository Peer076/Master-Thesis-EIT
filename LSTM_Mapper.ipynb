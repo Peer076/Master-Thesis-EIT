{
 "cells": [
  {
   "cell_type": "code",
   "execution_count": null,
   "id": "36226384-0b35-4cb4-a6e3-9b10155d5c98",
   "metadata": {},
   "outputs": [],
   "source": [
    "from glob import glob\n",
    "import os\n",
    "import random\n",
    "\n",
    "import matplotlib.pyplot as plt\n",
    "import numpy as np\n",
    "import tensorflow as tf\n",
    "from tensorflow.keras.optimizers import Adam\n",
    "from sklearn.model_selection import train_test_split\n",
    "from sklearn.decomposition import PCA\n",
    "\n",
    "from src.vae_model import vae_model\n",
    "from src.mapper_model import mapper_model\n",
    "from src.util import plot_mesh_permarray\n",
    "from src.util import seq_data\n",
    "\n",
    "from pyeit import mesh\n",
    "\n",
    "\n",
    "os.environ[\"CUDA_VISIBLE_DEVICES\"] = \"1\""
   ]
  },
  {
   "cell_type": "code",
   "execution_count": null,
   "id": "522dc5d2-67a5-4512-a8c4-51f63fc90b6d",
   "metadata": {},
   "outputs": [],
   "source": [
    "n_el = 16  # nb of electrodes\n",
    "mesh_obj = mesh.create(n_el, h0=0.05)"
   ]
  },
  {
   "cell_type": "code",
   "execution_count": null,
   "id": "ef2675f4-8780-46ca-a6d1-a004d7932d52",
   "metadata": {},
   "outputs": [],
   "source": [
    "def load_all_data():\n",
    "    voltage_dict = {} \n",
    "    gamma_dict = {} \n",
    "    data_dirs = sorted(glob(\"data*/\"))  \n",
    "\n",
    "    for i, directory in enumerate(data_dirs):\n",
    "        file_list = sorted(glob(f\"{directory}*.npz\"))  \n",
    "        voltage_list = []\n",
    "        gamma_list = []\n",
    "\n",
    "        for file in file_list:\n",
    "            tmp = np.load(file, allow_pickle=True)  \n",
    "            voltage_list.append(tmp[\"v\"])  \n",
    "            gamma_list.append(tmp[\"gamma\"])  \n",
    "\n",
    "        voltage_array = np.array(voltage_list) / 150\n",
    "        voltage_array = np.expand_dims(voltage_array, axis=2)\n",
    "        gamma_array = np.array(gamma_list) / 150          #WARUM Normalisierung?\n",
    "        gamma_array = np.expand_dims(gamma_array, axis=2)\n",
    "        \n",
    "        # Speichere das Array im Dictionary\n",
    "        voltage_dict[f\"voltage{i}\" if i > 0 else \"voltage\"] = voltage_array\n",
    "        gamma_dict[f\"gamma{i}\" if i > 0 else \"gamma\"] = gamma_array\n",
    "    \n",
    "    return voltage_dict, gamma_dict\n",
    "\n",
    "voltage_dict, gamma_dict = load_all_data()\n",
    "\n",
    "voltage4 = voltage_dict[\"voltage4\"]\n",
    "\n",
    "gamma4 = gamma_dict[\"gamma4\"]"
   ]
  },
  {
   "cell_type": "code",
   "execution_count": null,
   "id": "778ae460-ce48-4aee-a931-d920c565cffd",
   "metadata": {},
   "outputs": [],
   "source": [
    "EIT = voltage4.reshape(-1, 32, 32, 1)\n",
    "perm_array = perm_array.reshape(-1, 2840, 1)"
   ]
  },
  {
   "cell_type": "code",
   "execution_count": null,
   "id": "852e4959-b49e-43f5-ae23-5a2b60c0f46b",
   "metadata": {},
   "outputs": [],
   "source": [
    "EIT_seq, perm_array_seq = seq_data(EIT, perm_array, n_seg=4)\n",
    "# EIT_seq = EIT_seq.reshape(EIT_seq.shape[0], 4, 1024, 1)\n",
    "print(\"New Shape of Voltages Data:\")\n",
    "print(EIT_seq.shape)\n",
    "print(\"New Shape of Permittivity Data:\")\n",
    "print(perm_array_seq.shape)"
   ]
  },
  {
   "cell_type": "code",
   "execution_count": null,
   "id": "431a14d8-803f-42ad-86c1-0bf320311c9e",
   "metadata": {},
   "outputs": [],
   "source": [
    "mapper = mapper_model()\n",
    "mapper.summary()\n",
    "\n",
    "mapper.compile(Adam(), loss=\"mse\")"
   ]
  }
 ],
 "metadata": {
  "kernelspec": {
   "display_name": "Python 3 (ipykernel)",
   "language": "python",
   "name": "python3"
  },
  "language_info": {
   "codemirror_mode": {
    "name": "ipython",
    "version": 3
   },
   "file_extension": ".py",
   "mimetype": "text/x-python",
   "name": "python",
   "nbconvert_exporter": "python",
   "pygments_lexer": "ipython3",
   "version": "3.12.2"
  }
 },
 "nbformat": 4,
 "nbformat_minor": 5
}
