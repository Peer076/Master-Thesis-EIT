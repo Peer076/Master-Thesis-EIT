{
 "cells": [
  {
   "cell_type": "code",
   "execution_count": 1,
   "id": "a6efc6e1-e5f9-40fe-b7bb-e97331ffd613",
   "metadata": {},
   "outputs": [
    {
     "name": "stderr",
     "output_type": "stream",
     "text": [
      "2024-12-12 11:47:07.563376: E external/local_xla/xla/stream_executor/cuda/cuda_fft.cc:477] Unable to register cuFFT factory: Attempting to register factory for plugin cuFFT when one has already been registered\n",
      "WARNING: All log messages before absl::InitializeLog() is called are written to STDERR\n",
      "E0000 00:00:1734004027.578579 2831533 cuda_dnn.cc:8310] Unable to register cuDNN factory: Attempting to register factory for plugin cuDNN when one has already been registered\n",
      "E0000 00:00:1734004027.583151 2831533 cuda_blas.cc:1418] Unable to register cuBLAS factory: Attempting to register factory for plugin cuBLAS when one has already been registered\n",
      "2024-12-12 11:47:07.602990: I tensorflow/core/platform/cpu_feature_guard.cc:210] This TensorFlow binary is optimized to use available CPU instructions in performance-critical operations.\n",
      "To enable the following instructions: AVX2 FMA, in other operations, rebuild TensorFlow with the appropriate compiler flags.\n",
      "W0000 00:00:1734004036.747298 2831533 gpu_device.cc:2344] Cannot dlopen some GPU libraries. Please make sure the missing libraries mentioned above are installed properly if you would like to use GPU. Follow the guide at https://www.tensorflow.org/install/gpu for how to download and setup the required libraries for your platform.\n",
      "Skipping registering GPU devices...\n"
     ]
    }
   ],
   "source": [
    "import os \n",
    "import keras_tuner as kt\n",
    "import keras\n",
    "from keras_tuner import HyperParameters\n",
    "from tensorflow.keras import Sequential\n",
    "from tensorflow.keras.layers import Dense, Input\n",
    "from keras.optimizers import Adam\n",
    "from src.vae_model import vae_model\n",
    "from src.util import load_all_data\n",
    "from pyeit import mesh"
   ]
  },
  {
   "cell_type": "code",
   "execution_count": 2,
   "id": "62141d78-103b-476a-ac2b-b8d5a1fd82b0",
   "metadata": {},
   "outputs": [
    {
     "ename": "NameError",
     "evalue": "name 'np' is not defined",
     "output_type": "error",
     "traceback": [
      "\u001b[0;31m---------------------------------------------------------------------------\u001b[0m",
      "\u001b[0;31mNameError\u001b[0m                                 Traceback (most recent call last)",
      "Cell \u001b[0;32mIn[2], line 7\u001b[0m\n\u001b[1;32m      5\u001b[0m gamma \u001b[38;5;241m=\u001b[39m gamma_dict[\u001b[38;5;124m\"\u001b[39m\u001b[38;5;124mgamma\u001b[39m\u001b[38;5;124m\"\u001b[39m]\u001b[38;5;241m/\u001b[39m\u001b[38;5;241m15\u001b[39m\n\u001b[1;32m      6\u001b[0m voltage \u001b[38;5;241m=\u001b[39m voltage_dict[\u001b[38;5;124m\"\u001b[39m\u001b[38;5;124mvoltage\u001b[39m\u001b[38;5;124m\"\u001b[39m]\n\u001b[0;32m----> 7\u001b[0m voltage_normalized \u001b[38;5;241m=\u001b[39m (voltage \u001b[38;5;241m-\u001b[39m \u001b[43mnp\u001b[49m\u001b[38;5;241m.\u001b[39mmean(voltage, axis\u001b[38;5;241m=\u001b[39m\u001b[38;5;241m0\u001b[39m)) \u001b[38;5;241m/\u001b[39m np\u001b[38;5;241m.\u001b[39mstd(voltage, axis\u001b[38;5;241m=\u001b[39m\u001b[38;5;241m0\u001b[39m)\n\u001b[1;32m      9\u001b[0m \u001b[38;5;66;03m# Checking shapes\u001b[39;00m\n\u001b[1;32m     10\u001b[0m voltage\u001b[38;5;241m.\u001b[39mshape, voltage_normalized\u001b[38;5;241m.\u001b[39mshape, gamma\u001b[38;5;241m.\u001b[39mshape\n",
      "\u001b[0;31mNameError\u001b[0m: name 'np' is not defined"
     ]
    }
   ],
   "source": [
    "n_el = 16  \n",
    "mesh_obj = mesh.create(n_el, h0=0.05)\n",
    "# Load and normalize data\n",
    "voltage_dict, gamma_dict, anomaly_dict = load_all_data(\"data\")\n",
    "gamma = gamma_dict[\"gamma\"]/15\n",
    "voltage = voltage_dict[\"voltage\"]\n",
    "voltage_normalized = (voltage - np.mean(voltage, axis=0)) / np.std(voltage, axis=0)\n",
    "\n",
    "# Checking shapes\n",
    "voltage.shape, voltage_normalized.shape, gamma.shape\n",
    "\n",
    "print(anomaly_dict)"
   ]
  },
  {
   "cell_type": "code",
   "execution_count": null,
   "id": "cecde771-4baf-413d-b78d-cda988c4741c",
   "metadata": {},
   "outputs": [],
   "source": [
    "model_dir = \"models/\"\n",
    "normal_mapper_model = os.path.join(model_dir, \"best_normal_model1.keras\")\n",
    "mapper_model = keras.models.load_model(normal_mapper_model)\n",
    "mapper_model.summary()"
   ]
  },
  {
   "cell_type": "code",
   "execution_count": null,
   "id": "84e2ed8a-488c-4bb7-8395-c7edf2d08332",
   "metadata": {},
   "outputs": [],
   "source": [
    "model_dir = \"weights/\"\n",
    "normal_mapper_weights = os.path.join(model_dir, \"normal_mapper.weights.h5\")\n",
    "mapper_model.load_weights(normal_mapper_weights)\n",
    "print(\"Gewichte des Mappers erfolgreich geladen.\")\n",
    "\n",
    "vae = vae_model()  \n",
    "vae.build(input_shape=(None, *gamma.shape[1:])) \n",
    "vae.load_weights(\"weights/vae.weights.h5\")\n",
    "print(\"Gewichte des VAEs erfolgreich geladen.\")"
   ]
  }
 ],
 "metadata": {
  "kernelspec": {
   "display_name": "Python 3 (ipykernel)",
   "language": "python",
   "name": "python3"
  },
  "language_info": {
   "codemirror_mode": {
    "name": "ipython",
    "version": 3
   },
   "file_extension": ".py",
   "mimetype": "text/x-python",
   "name": "python",
   "nbconvert_exporter": "python",
   "pygments_lexer": "ipython3",
   "version": "3.12.2"
  }
 },
 "nbformat": 4,
 "nbformat_minor": 5
}
