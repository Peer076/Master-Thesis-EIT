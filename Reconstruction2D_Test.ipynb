{
 "cells": [
  {
   "cell_type": "code",
   "execution_count": 1,
   "id": "a0f9237e-3219-4b54-ae9f-ecbd1efe35af",
   "metadata": {},
   "outputs": [
    {
     "name": "stderr",
     "output_type": "stream",
     "text": [
      "2025-01-17 09:08:47.801591: E external/local_xla/xla/stream_executor/cuda/cuda_fft.cc:477] Unable to register cuFFT factory: Attempting to register factory for plugin cuFFT when one has already been registered\n",
      "WARNING: All log messages before absl::InitializeLog() is called are written to STDERR\n",
      "E0000 00:00:1737104927.816293 1976251 cuda_dnn.cc:8310] Unable to register cuDNN factory: Attempting to register factory for plugin cuDNN when one has already been registered\n",
      "E0000 00:00:1737104927.820712 1976251 cuda_blas.cc:1418] Unable to register cuBLAS factory: Attempting to register factory for plugin cuBLAS when one has already been registered\n",
      "2025-01-17 09:08:47.837852: I tensorflow/core/platform/cpu_feature_guard.cc:210] This TensorFlow binary is optimized to use available CPU instructions in performance-critical operations.\n",
      "To enable the following instructions: AVX2 FMA, in other operations, rebuild TensorFlow with the appropriate compiler flags.\n",
      "W0000 00:00:1737104936.956365 1976251 gpu_device.cc:2344] Cannot dlopen some GPU libraries. Please make sure the missing libraries mentioned above are installed properly if you would like to use GPU. Follow the guide at https://www.tensorflow.org/install/gpu for how to download and setup the required libraries for your platform.\n",
      "Skipping registering GPU devices...\n"
     ]
    }
   ],
   "source": [
    "import numpy as np\n",
    "from src.vae_model import vae_model\n",
    "from src.lstm_mapper_model import mapper_model\n",
    "from src.util import (\n",
    "    seq_data,\n",
    "    load_sim_data,  \n",
    "    load_exp_data,\n",
    ")\n",
    "from pyeit import mesh\n",
    "from src.performance_eval_2D import (compute_evaluation_metrics,\n",
    "    plot_random_deviations, \n",
    "    plot_random_recon_examples, \n",
    "    plot_deviations_x_y,\n",
    "    plot_deviations_perm,\n",
    "    merge_plots_to_pdf,\n",
    "    run_deviation_analysis,\n",
    "    plot_polar_metrics,\n",
    "    compute_polar_metrics\n",
    "    )"
   ]
  },
  {
   "cell_type": "code",
   "execution_count": 2,
   "id": "93380b68-901c-4512-91a7-a3dbb07c9b34",
   "metadata": {},
   "outputs": [],
   "source": [
    "n_el = 32\n",
    "from pyeit import mesh\n",
    "mesh_obj = mesh.create(n_el, h0=0.05)"
   ]
  },
  {
   "cell_type": "markdown",
   "id": "d771fe6a-5761-4171-817a-a138c1708b06",
   "metadata": {},
   "source": [
    "## Circle interpolation test: r=0.5 using LSTM trained on r=0.25 & 0.75 (using sim data)"
   ]
  },
  {
   "cell_type": "markdown",
   "id": "1520918f-9b54-4784-823c-31ee5bd54e7b",
   "metadata": {},
   "source": [
    "**Loading pretrained models**"
   ]
  },
  {
   "cell_type": "code",
   "execution_count": 3,
   "id": "dd03a6d2-0606-48f9-8554-a029c8c887f3",
   "metadata": {},
   "outputs": [
    {
     "name": "stdout",
     "output_type": "stream",
     "text": [
      "Gewichte erfolgreich geladen.\n"
     ]
    }
   ],
   "source": [
    "lstm_mapper = mapper_model()\n",
    "#lstm_mapper.summary()\n",
    "lstm_mapper.load_weights(\"weights/lstm_circle_interpolation_025_075_med.weights.h5\")\n",
    "print(\"Gewichte erfolgreich geladen.\")"
   ]
  },
  {
   "cell_type": "code",
   "execution_count": 4,
   "id": "64ebd740-ecd0-4304-b9b8-f60c8d8ff443",
   "metadata": {},
   "outputs": [
    {
     "name": "stdout",
     "output_type": "stream",
     "text": [
      "Gewichte erfolgreich geladen.\n"
     ]
    }
   ],
   "source": [
    "vae = vae_model()  \n",
    "vae.build(input_shape=(None, 2840)) \n",
    "vae.load_weights(\"weights/vae2D_best_6000.weights.h5\")\n",
    "print(\"Gewichte erfolgreich geladen.\")"
   ]
  },
  {
   "cell_type": "markdown",
   "id": "973ad16b-430c-4bfc-b990-b7904ebf18b3",
   "metadata": {},
   "source": [
    "**Loading test sim data**"
   ]
  },
  {
   "cell_type": "code",
   "execution_count": 5,
   "id": "f76f361e-ab47-409f-aef8-71a880697fbb",
   "metadata": {},
   "outputs": [],
   "source": [
    "voltage_test_sim, gamma_test_sim , _ = load_sim_data(\"data53\")  #todo: adjust test data\n",
    "#voltage_test_sim, gamma_test_sim , _ = load_sim_data(\"data48\")  #todo: adjust test data\n",
    "voltage_test_normalized = (voltage_test_sim - np.mean(voltage_test_sim, axis=0)) / np.std(voltage_test_sim, axis=0)\n",
    "\n",
    "voltage_test = voltage_test_normalized.reshape(-1, 32, 32, 1)  \n",
    "gamma_test = gamma_test_sim.reshape(-1, 2840)\n",
    "\n",
    "voltage_test_seq, gamma_true_test = seq_data(voltage_test, gamma_test, n_seg=4)"
   ]
  },
  {
   "cell_type": "markdown",
   "id": "6923d152-8444-41bf-ae63-4e2181c69ee6",
   "metadata": {},
   "source": [
    "**Reconstruction using voltage data**"
   ]
  },
  {
   "cell_type": "code",
   "execution_count": 6,
   "id": "a299335e-1356-40e3-af5b-bbdd3994beab",
   "metadata": {},
   "outputs": [
    {
     "name": "stdout",
     "output_type": "stream",
     "text": [
      "\u001b[1m157/157\u001b[0m \u001b[32m━━━━━━━━━━━━━━━━━━━━\u001b[0m\u001b[37m\u001b[0m \u001b[1m1s\u001b[0m 6ms/step\n",
      "\u001b[1m157/157\u001b[0m \u001b[32m━━━━━━━━━━━━━━━━━━━━\u001b[0m\u001b[37m\u001b[0m \u001b[1m3s\u001b[0m 14ms/step\n"
     ]
    }
   ],
   "source": [
    "pred_latent = lstm_mapper.predict(voltage_test_seq)\n",
    "gamma_pred_test = vae.decoder.predict(pred_latent).reshape(-1, 2840)"
   ]
  },
  {
   "cell_type": "raw",
   "id": "32299ec2-1da7-4395-803a-324a4b6dd53a",
   "metadata": {},
   "source": [
    "plot_random_deviations(mesh_obj, gamma_true_test, gamma_pred_test, num_samples= 10, threshold=0.5, save=True, fpath='Abbildungen/',\n",
    "                      fname='random_deviations_circle_interpol_sim_025_075_med.pdf')"
   ]
  },
  {
   "cell_type": "raw",
   "id": "0da03cc9-dc2d-464f-9c1a-80dff80464ce",
   "metadata": {},
   "source": [
    "fig = plot_random_recon_examples(mesh_obj, gamma_true_test, gamma_pred_test, \n",
    "                               num_samples=25,\n",
    "                               save=True, \n",
    "                               fpath='Abbildungen/',\n",
    "                               fname='random_reconstructions_circle_interpol_sim_025_075_med.pdf')\n",
    "\n",
    "#weiße linien im pdf zu sehen, entweder none edgelinie oder erst als png speichern und dann als pdf"
   ]
  },
  {
   "cell_type": "raw",
   "id": "c12871d6-04a3-45a3-862b-6227efaf89f3",
   "metadata": {},
   "source": [
    "fpath = 'Abbildungen/'\n",
    "base_fname = 'circle_interpol_sim_025_075_med'\n",
    "\n",
    "run_deviation_analysis(gamma_true_test, gamma_pred_test, mesh_obj, fpath, base_fname)"
   ]
  },
  {
   "cell_type": "markdown",
   "id": "0dd77250-a1b7-40bc-af80-bb1a95a2ac5c",
   "metadata": {},
   "source": [
    "## Circle interpolation test: r=0.5 using LSTM trained on r=0.2, 0.3, 0.4, 0.6, 0.7, 0.8 (using sim data)"
   ]
  },
  {
   "cell_type": "code",
   "execution_count": 7,
   "id": "9a5fdd8d-24d5-4df5-9f76-d77af2b3e473",
   "metadata": {},
   "outputs": [
    {
     "name": "stdout",
     "output_type": "stream",
     "text": [
      "Input shapes:\n",
      "gamma_true_test shape: (4996, 2840)\n",
      "gamma_pred_test shape: (4996, 2840)\n"
     ]
    },
    {
     "ename": "TypeError",
     "evalue": "cannot unpack non-iterable NoneType object",
     "output_type": "error",
     "traceback": [
      "\u001b[0;31m---------------------------------------------------------------------------\u001b[0m",
      "\u001b[0;31mTypeError\u001b[0m                                 Traceback (most recent call last)",
      "Cell \u001b[0;32mIn[7], line 7\u001b[0m\n\u001b[1;32m      4\u001b[0m \u001b[38;5;28mprint\u001b[39m(\u001b[38;5;124mf\u001b[39m\u001b[38;5;124m\"\u001b[39m\u001b[38;5;124mgamma_pred_test shape: \u001b[39m\u001b[38;5;132;01m{\u001b[39;00mgamma_pred_test\u001b[38;5;241m.\u001b[39mshape\u001b[38;5;132;01m}\u001b[39;00m\u001b[38;5;124m\"\u001b[39m)\n\u001b[1;32m      6\u001b[0m \u001b[38;5;66;03m# Dann berechnen Sie die Metriken\u001b[39;00m\n\u001b[0;32m----> 7\u001b[0m r_true, r_pred, theta_true, theta_pred \u001b[38;5;241m=\u001b[39m compute_polar_metrics(mesh_obj, gamma_true_test, gamma_pred_test)\n\u001b[1;32m      9\u001b[0m \u001b[38;5;66;03m# Erstellen Sie den Plot\u001b[39;00m\n\u001b[1;32m     10\u001b[0m plot_polar_metrics(r_true, r_pred, theta_true, theta_pred)\n",
      "\u001b[0;31mTypeError\u001b[0m: cannot unpack non-iterable NoneType object"
     ]
    }
   ],
   "source": [
    "# Überprüfen Sie zunächst die Shapes ihrer Eingabedaten\n",
    "print(\"Input shapes:\")\n",
    "print(f\"gamma_true_test shape: {gamma_true_test.shape}\")\n",
    "print(f\"gamma_pred_test shape: {gamma_pred_test.shape}\")\n",
    "\n",
    "# Dann berechnen Sie die Metriken\n",
    "r_true, r_pred, theta_true, theta_pred = compute_polar_metrics(mesh_obj, gamma_true_test, gamma_pred_test)\n",
    "\n",
    "# Erstellen Sie den Plot\n",
    "plot_polar_metrics(r_true, r_pred, theta_true, theta_pred)"
   ]
  },
  {
   "cell_type": "code",
   "execution_count": null,
   "id": "01d18b5e-3adb-4e68-b1e2-74df736f2e41",
   "metadata": {},
   "outputs": [],
   "source": [
    "#plot für Radius usw. wie im Paper"
   ]
  }
 ],
 "metadata": {
  "kernelspec": {
   "display_name": "Python 3 (ipykernel)",
   "language": "python",
   "name": "python3"
  },
  "language_info": {
   "codemirror_mode": {
    "name": "ipython",
    "version": 3
   },
   "file_extension": ".py",
   "mimetype": "text/x-python",
   "name": "python",
   "nbconvert_exporter": "python",
   "pygments_lexer": "ipython3",
   "version": "3.12.2"
  }
 },
 "nbformat": 4,
 "nbformat_minor": 5
}
