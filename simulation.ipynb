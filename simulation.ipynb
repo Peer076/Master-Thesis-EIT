{
 "cells": [
  {
   "cell_type": "markdown",
   "id": "8bd70259-db10-48e9-8ae9-b99fc3a91277",
   "metadata": {},
   "source": [
    "# Simulation\n",
    "\n",
    "[[1]](https://github.com/eitcom/pyEIT)"
   ]
  },
  {
   "cell_type": "code",
   "execution_count": 11,
   "id": "cebe790d-337e-431c-bdbd-5cdec97dca40",
   "metadata": {},
   "outputs": [],
   "source": [
    "# coding: utf-8\n",
    "\"\"\" demo on forward 2D \"\"\"\n",
    "# Copyright (c) Benyuan Liu. All Rights Reserved.\n",
    "# Distributed under the (new) BSD License. See LICENSE.txt for more info.\n",
    "from __future__ import absolute_import, division, print_function\n",
    "\n",
    "import matplotlib.pyplot as plt\n",
    "import numpy as np\n",
    "import pyeit.eit.protocol as protocol\n",
    "import pyeit.mesh as mesh\n",
    "from pyeit.eit.fem import EITForward, Forward\n",
    "from pyeit.eit.interp2d import pdegrad, sim2pts\n",
    "from pyeit.mesh.shape import thorax\n",
    "from pyeit.mesh.wrapper import PyEITAnomaly_Circle\n",
    "from PIL import Image\n",
    "import os\n",
    "\n",
    "from src.util import plot_mesh"
   ]
  },
  {
   "cell_type": "code",
   "execution_count": 12,
   "id": "8a36a26a",
   "metadata": {},
   "outputs": [],
   "source": [
    "#helper = []\n",
    "#helper.append()\n",
    "\n",
    "#helper2 = np.array()\n"
   ]
  },
  {
   "cell_type": "code",
   "execution_count": 13,
   "id": "cdaac665-0688-420a-8c72-fe40e6f8192d",
   "metadata": {},
   "outputs": [
    {
     "name": "stdout",
     "output_type": "stream",
     "text": [
      "2D mesh status:\n",
      "1476 nodes, 2821 elements\n"
     ]
    }
   ],
   "source": [
    "\"\"\" 0. build mesh \"\"\"\n",
    "\n",
    "n_el = 16  # nb of electrodes\n",
    "use_customize_shape = False\n",
    "if use_customize_shape:\n",
    "    # Mesh shape is specified with fd parameter in the instantiation, e.g : fd=thorax\n",
    "    mesh_obj = mesh.create(n_el, h0=0.05, fd=thorax)\n",
    "else:\n",
    "    mesh_obj = mesh.create(n_el, h0=0.05)\n",
    "el_pos = mesh_obj.el_pos\n",
    "\n",
    "# extract node, element, alpha\n",
    "pts = mesh_obj.node\n",
    "tri = mesh_obj.element\n",
    "x, y = pts[:, 0], pts[:, 1]\n",
    "mesh_obj.print_stats()\n",
    "protocol_obj = protocol.create(n_el, dist_exc=4, step_meas=1, parser_meas=\"std\")\n",
    "\n",
    "#def calculateData (mesh):\n",
    " #   protocol_obj = protocol.create(n_el, dist_exc=4, step_meas=1, parser_meas=\"std\")\n",
    "#    for i in range(len(protocol_obj.ex_mat)):\n",
    " #       ex_line = protocol_obj.ex_mat[15].ravel() \n",
    " #       fwd = Forward(mesh)\n",
    " #       f = fwd.solve(ex_line)\n",
    " #       fwd = EITForward(mesh_obj, protocol_obj)\n",
    " #       f = np.real(f)\n",
    "  #      v = fwd.solve_eit(perm=mesh.perm)   #berechnet den Potentialvektor (192 Werte)\n",
    "  #  return (f, v)\n",
    "\n",
    "def calculateData (mesh):\n",
    "    ex_line = protocol_obj.ex_mat[3].ravel() \n",
    "    fwd = Forward(mesh)\n",
    "    f = fwd.solve(ex_line)\n",
    "    fwd = EITForward(mesh_obj, protocol_obj)\n",
    "    f= np.real(f)\n",
    "    v = fwd.solve_eit(perm=mesh.perm)   #berechnet den Potentialvektor (192 Werte)\n",
    "    return (f, v)\n",
    "\n",
    "# Erstellt die einzelnen Positionen der Anomalie (abhängig von der Anzahl \"Nsteps\"), Größe der Anomalie über r definierbar, Radius der Kreisbahn mit r_path einstellbar \n",
    "def createAnomaly (Nsteps,r,r_path):\n",
    "    anglePos = np.linspace(0, 2*np.pi, Nsteps)           # P(cos(alpha)=x, sin(alpha)=y)\n",
    "    perm=100.0\n",
    "    mesh_new_list = []\n",
    "    for a in anglePos:\n",
    "        anomaly = PyEITAnomaly_Circle(center=[np.cos(a)*r_path,np.sin(a)*r_path], r=r, perm=perm) #erstellt Anomalie an den einzelnen Positionen/Winkeln\n",
    "        anomaly_mesh = mesh.set_perm(mesh_obj, anomaly=anomaly, background=1.0)\n",
    "        f, v = calculateData(anomaly_mesh)\n",
    "        mesh_dict = {\"mesh\": anomaly_mesh, \"x\":np.cos(a)*r_path, \"y\":np.sin(a)*r_path, \"radius\":r, \"perm_init\":perm, \"f\":f, \"v\":v, \"anomaly\": anomaly}\n",
    "        mesh_new_list.append(mesh_dict) #erstellt eine Liste aus den Mesh-Dict Daten\n",
    "        #perm = mesh_new.perm    \n",
    "    return mesh_new_list\n"
   ]
  },
  {
   "cell_type": "markdown",
   "id": "ceca04ea",
   "metadata": {},
   "source": [
    "**Erstellt Gif-Animation**"
   ]
  },
  {
   "cell_type": "code",
   "execution_count": null,
   "id": "3a4c8a61",
   "metadata": {},
   "outputs": [],
   "source": [
    "def createAnimation(mesh_new_list, protocol_obj, output_gif=\"animation_with_movement.gif\"):\n",
    "    \n",
    "    image_files = []\n",
    "\n",
    "    # Loop durch jede Anomalie-Position\n",
    "    for i, mesh_data in enumerate(mesh_new_list):\n",
    "\n",
    "        # Loop durch jedes Elektrodenpaar für die aktuelle Anomalie-Position\n",
    "        for j, ex_line in enumerate(protocol_obj.ex_mat):\n",
    "            fig, ax1 = plt.subplots(figsize=(9, 6))\n",
    "\n",
    "            # Potentialverteilung für dieses Elektrodenpaar\n",
    "            fwd = Forward(mesh_data[\"mesh\"])\n",
    "            f = np.real(fwd.solve(ex_line.ravel()))\n",
    "\n",
    "            # Äquipotentiallinien basierend auf der Einspeisung\n",
    "            vf = np.linspace(min(f), max(f), 64)\n",
    "            ax1.tricontour(x, y, tri, f, vf, cmap=plt.cm.viridis)\n",
    "\n",
    "            ax1.tripcolor(\n",
    "                x,\n",
    "                y,\n",
    "                tri,\n",
    "                np.real(mesh_data[\"mesh\"].perm),\n",
    "                edgecolors=\"k\",\n",
    "                shading=\"flat\",\n",
    "                alpha=0.5,\n",
    "                cmap=plt.cm.Greys,\n",
    "            )\n",
    "\n",
    "            # plottet Elektroden\n",
    "            ax1.plot(x[el_pos], y[el_pos], \"ro\")\n",
    "            for e_idx, e in enumerate(el_pos):\n",
    "                ax1.text(x[e], y[e], str(e_idx + 1), size=12)\n",
    "\n",
    "            ax1.set_title(f\"Equi-potential lines (Anomaly Position {i+1}, Electrodes {j+1})\")\n",
    "            ax1.set_aspect(\"equal\")\n",
    "            ax1.set_ylim([-1.2, 1.2])\n",
    "            ax1.set_xlim([-1.2, 1.2])\n",
    "            fig.set_size_inches(6, 6)\n",
    "\n",
    "            # Speichert das Bild\n",
    "            filename = f\"frame_{i}_{j}.png\"\n",
    "            plt.savefig(filename)\n",
    "            image_files.append(filename)\n",
    "            plt.close(fig)\n",
    "\n",
    "    # Erstellt das GIF\n",
    "    frames = [Image.open(image) for image in image_files]\n",
    "    frames[0].save(output_gif, format=\"GIF\", append_images=frames[1:], save_all=True, duration=100, loop=0)\n",
    "\n",
    "    # Einzelbilder löschen\n",
    "    for image in image_files:\n",
    "        os.remove(image)\n",
    "\n",
    "def storeData (mesh_new_list):\n",
    "    for i in range(len(mesh_new_list)):\n",
    "    \n",
    "        np.savez(\"data/sample_{0:06d}.npz\".format(i), v=mesh_new_list[i][\"v\"], anomalie=mesh_new_list[i][\"anomaly\"])\n",
    "\n",
    "        \n",
    "mesh_new_list = createAnomaly(100, 0.2, 0.5)  \n",
    "protocol_obj = protocol.create(n_el, dist_exc=4, step_meas=1, parser_meas=\"std\")\n",
    "#createAnimation(mesh_new_list, protocol_obj)\n",
    "storeData(mesh_new_list)"
   ]
  },
  {
   "cell_type": "markdown",
   "id": "3f9712cd-5a5a-41ce-8262-bc300cf90bc4",
   "metadata": {},
   "source": [
    "**load data**"
   ]
  },
  {
   "cell_type": "code",
   "execution_count": 15,
   "id": "112a2f01-4761-4a69-9389-5ba50cca76e3",
   "metadata": {},
   "outputs": [],
   "source": [
    "from glob import glob"
   ]
  },
  {
   "cell_type": "code",
   "execution_count": 16,
   "id": "5056ae05-56bd-4d2d-8a65-00966f35b213",
   "metadata": {},
   "outputs": [],
   "source": [
    "file_list = np.sort(glob(\"data/*.npz\"))"
   ]
  },
  {
   "cell_type": "code",
   "execution_count": 17,
   "id": "be46c3b2-f462-4560-8992-0c711887f2a1",
   "metadata": {},
   "outputs": [],
   "source": [
    "V = list()  # voltages\n",
    "A = list()  # anomalies\n",
    "for file in file_list:\n",
    "    tmp = np.load(file, allow_pickle=True)\n",
    "    V.append(tmp[\"v\"])\n",
    "    A.append(tmp[\"anomalie\"].tolist())"
   ]
  },
  {
   "cell_type": "code",
   "execution_count": 18,
   "id": "3079682c-98df-4b05-b518-694196128abb",
   "metadata": {},
   "outputs": [
    {
     "data": {
      "text/plain": [
       "[PyEITAnomaly_Circle(center=array([0.5, 0. ]), perm=100.0, r=0.2),\n",
       " PyEITAnomaly_Circle(center=array([0.49899334, 0.03171196]), perm=100.0, r=0.2),\n",
       " PyEITAnomaly_Circle(center=array([0.49597741, 0.06329623]), perm=100.0, r=0.2),\n",
       " PyEITAnomaly_Circle(center=array([0.49096435, 0.09462562]), perm=100.0, r=0.2),\n",
       " PyEITAnomaly_Circle(center=array([0.48397435, 0.12557399]), perm=100.0, r=0.2),\n",
       " PyEITAnomaly_Circle(center=array([0.47503556, 0.15601672]), perm=100.0, r=0.2),\n",
       " PyEITAnomaly_Circle(center=array([0.46418397, 0.18583123]), perm=100.0, r=0.2),\n",
       " PyEITAnomaly_Circle(center=array([0.45146327, 0.21489746]), perm=100.0, r=0.2),\n",
       " PyEITAnomaly_Circle(center=array([0.43692469, 0.24309837]), perm=100.0, r=0.2),\n",
       " PyEITAnomaly_Circle(center=array([0.42062677, 0.27032041]), perm=100.0, r=0.2),\n",
       " PyEITAnomaly_Circle(center=array([0.40263513, 0.29645396]), perm=100.0, r=0.2),\n",
       " PyEITAnomaly_Circle(center=array([0.38302222, 0.3213938 ]), perm=100.0, r=0.2),\n",
       " PyEITAnomaly_Circle(center=array([0.36186702, 0.34503951]), perm=100.0, r=0.2),\n",
       " PyEITAnomaly_Circle(center=array([0.33925471, 0.36729585]), perm=100.0, r=0.2),\n",
       " PyEITAnomaly_Circle(center=array([0.31527633, 0.38807323]), perm=100.0, r=0.2),\n",
       " PyEITAnomaly_Circle(center=array([0.29002845, 0.40728798]), perm=100.0, r=0.2),\n",
       " PyEITAnomaly_Circle(center=array([0.26361273, 0.42486271]), perm=100.0, r=0.2),\n",
       " PyEITAnomaly_Circle(center=array([0.23613554, 0.44072668]), perm=100.0, r=0.2),\n",
       " PyEITAnomaly_Circle(center=array([0.20770751, 0.454816  ]), perm=100.0, r=0.2),\n",
       " PyEITAnomaly_Circle(center=array([0.17844311, 0.46707393]), perm=100.0, r=0.2),\n",
       " PyEITAnomaly_Circle(center=array([0.14846019, 0.47745112]), perm=100.0, r=0.2),\n",
       " PyEITAnomaly_Circle(center=array([0.11787947, 0.48590578]), perm=100.0, r=0.2),\n",
       " PyEITAnomaly_Circle(center=array([0.08682409, 0.49240388]), perm=100.0, r=0.2),\n",
       " PyEITAnomaly_Circle(center=array([0.0554191 , 0.49691923]), perm=100.0, r=0.2),\n",
       " PyEITAnomaly_Circle(center=array([0.02379096, 0.49943367]), perm=100.0, r=0.2),\n",
       " PyEITAnomaly_Circle(center=array([-0.00793298,  0.49993706]), perm=100.0, r=0.2),\n",
       " PyEITAnomaly_Circle(center=array([-0.03962498,  0.49842739]), perm=100.0, r=0.2),\n",
       " PyEITAnomaly_Circle(center=array([-0.07115742,  0.49491072]), perm=100.0, r=0.2),\n",
       " PyEITAnomaly_Circle(center=array([-0.10240333,  0.48940122]), perm=100.0, r=0.2),\n",
       " PyEITAnomaly_Circle(center=array([-0.13323691,  0.48192108]), perm=100.0, r=0.2),\n",
       " PyEITAnomaly_Circle(center=array([-0.16353398,  0.47250041]), perm=100.0, r=0.2),\n",
       " PyEITAnomaly_Circle(center=array([-0.19317256,  0.46117715]), perm=100.0, r=0.2),\n",
       " PyEITAnomaly_Circle(center=array([-0.22203331,  0.44799689]), perm=100.0, r=0.2),\n",
       " PyEITAnomaly_Circle(center=array([-0.25     ,  0.4330127]), perm=100.0, r=0.2),\n",
       " PyEITAnomaly_Circle(center=array([-0.27696003,  0.41628493]), perm=100.0, r=0.2),\n",
       " PyEITAnomaly_Circle(center=array([-0.30280484,  0.39788092]), perm=100.0, r=0.2),\n",
       " PyEITAnomaly_Circle(center=array([-0.32743037,  0.37787479]), perm=100.0, r=0.2),\n",
       " PyEITAnomaly_Circle(center=array([-0.35073744,  0.35634709]), perm=100.0, r=0.2),\n",
       " PyEITAnomaly_Circle(center=array([-0.37263222,  0.3333845 ]), perm=100.0, r=0.2),\n",
       " PyEITAnomaly_Circle(center=array([-0.39302655,  0.30907949]), perm=100.0, r=0.2),\n",
       " PyEITAnomaly_Circle(center=array([-0.41183829,  0.28352993]), perm=100.0, r=0.2),\n",
       " PyEITAnomaly_Circle(center=array([-0.42899171,  0.2568387 ]), perm=100.0, r=0.2),\n",
       " PyEITAnomaly_Circle(center=array([-0.44441772,  0.22911326]), perm=100.0, r=0.2),\n",
       " PyEITAnomaly_Circle(center=array([-0.45805423,  0.20046527]), perm=100.0, r=0.2),\n",
       " PyEITAnomaly_Circle(center=array([-0.46984631,  0.17101007]), perm=100.0, r=0.2),\n",
       " PyEITAnomaly_Circle(center=array([-0.47974649,  0.14086628]), perm=100.0, r=0.2),\n",
       " PyEITAnomaly_Circle(center=array([-0.48771489,  0.11015527]), perm=100.0, r=0.2),\n",
       " PyEITAnomaly_Circle(center=array([-0.49371944,  0.0790007 ]), perm=100.0, r=0.2),\n",
       " PyEITAnomaly_Circle(center=array([-0.49773596,  0.04752802]), perm=100.0, r=0.2),\n",
       " PyEITAnomaly_Circle(center=array([-0.49974827,  0.01586397]), perm=100.0, r=0.2),\n",
       " PyEITAnomaly_Circle(center=array([-0.49974827, -0.01586397]), perm=100.0, r=0.2),\n",
       " PyEITAnomaly_Circle(center=array([-0.49773596, -0.04752802]), perm=100.0, r=0.2),\n",
       " PyEITAnomaly_Circle(center=array([-0.49371944, -0.0790007 ]), perm=100.0, r=0.2),\n",
       " PyEITAnomaly_Circle(center=array([-0.48771489, -0.11015527]), perm=100.0, r=0.2),\n",
       " PyEITAnomaly_Circle(center=array([-0.47974649, -0.14086628]), perm=100.0, r=0.2),\n",
       " PyEITAnomaly_Circle(center=array([-0.46984631, -0.17101007]), perm=100.0, r=0.2),\n",
       " PyEITAnomaly_Circle(center=array([-0.45805423, -0.20046527]), perm=100.0, r=0.2),\n",
       " PyEITAnomaly_Circle(center=array([-0.44441772, -0.22911326]), perm=100.0, r=0.2),\n",
       " PyEITAnomaly_Circle(center=array([-0.42899171, -0.2568387 ]), perm=100.0, r=0.2),\n",
       " PyEITAnomaly_Circle(center=array([-0.41183829, -0.28352993]), perm=100.0, r=0.2),\n",
       " PyEITAnomaly_Circle(center=array([-0.39302655, -0.30907949]), perm=100.0, r=0.2),\n",
       " PyEITAnomaly_Circle(center=array([-0.37263222, -0.3333845 ]), perm=100.0, r=0.2),\n",
       " PyEITAnomaly_Circle(center=array([-0.35073744, -0.35634709]), perm=100.0, r=0.2),\n",
       " PyEITAnomaly_Circle(center=array([-0.32743037, -0.37787479]), perm=100.0, r=0.2),\n",
       " PyEITAnomaly_Circle(center=array([-0.30280484, -0.39788092]), perm=100.0, r=0.2),\n",
       " PyEITAnomaly_Circle(center=array([-0.27696003, -0.41628493]), perm=100.0, r=0.2),\n",
       " PyEITAnomaly_Circle(center=array([-0.25     , -0.4330127]), perm=100.0, r=0.2),\n",
       " PyEITAnomaly_Circle(center=array([-0.22203331, -0.44799689]), perm=100.0, r=0.2),\n",
       " PyEITAnomaly_Circle(center=array([-0.19317256, -0.46117715]), perm=100.0, r=0.2),\n",
       " PyEITAnomaly_Circle(center=array([-0.16353398, -0.47250041]), perm=100.0, r=0.2),\n",
       " PyEITAnomaly_Circle(center=array([-0.13323691, -0.48192108]), perm=100.0, r=0.2),\n",
       " PyEITAnomaly_Circle(center=array([-0.10240333, -0.48940122]), perm=100.0, r=0.2),\n",
       " PyEITAnomaly_Circle(center=array([-0.07115742, -0.49491072]), perm=100.0, r=0.2),\n",
       " PyEITAnomaly_Circle(center=array([-0.03962498, -0.49842739]), perm=100.0, r=0.2),\n",
       " PyEITAnomaly_Circle(center=array([-0.00793298, -0.49993706]), perm=100.0, r=0.2),\n",
       " PyEITAnomaly_Circle(center=array([ 0.02379096, -0.49943367]), perm=100.0, r=0.2),\n",
       " PyEITAnomaly_Circle(center=array([ 0.0554191 , -0.49691923]), perm=100.0, r=0.2),\n",
       " PyEITAnomaly_Circle(center=array([ 0.08682409, -0.49240388]), perm=100.0, r=0.2),\n",
       " PyEITAnomaly_Circle(center=array([ 0.11787947, -0.48590578]), perm=100.0, r=0.2),\n",
       " PyEITAnomaly_Circle(center=array([ 0.14846019, -0.47745112]), perm=100.0, r=0.2),\n",
       " PyEITAnomaly_Circle(center=array([ 0.17844311, -0.46707393]), perm=100.0, r=0.2),\n",
       " PyEITAnomaly_Circle(center=array([ 0.20770751, -0.454816  ]), perm=100.0, r=0.2),\n",
       " PyEITAnomaly_Circle(center=array([ 0.23613554, -0.44072668]), perm=100.0, r=0.2),\n",
       " PyEITAnomaly_Circle(center=array([ 0.26361273, -0.42486271]), perm=100.0, r=0.2),\n",
       " PyEITAnomaly_Circle(center=array([ 0.29002845, -0.40728798]), perm=100.0, r=0.2),\n",
       " PyEITAnomaly_Circle(center=array([ 0.31527633, -0.38807323]), perm=100.0, r=0.2),\n",
       " PyEITAnomaly_Circle(center=array([ 0.33925471, -0.36729585]), perm=100.0, r=0.2),\n",
       " PyEITAnomaly_Circle(center=array([ 0.36186702, -0.34503951]), perm=100.0, r=0.2),\n",
       " PyEITAnomaly_Circle(center=array([ 0.38302222, -0.3213938 ]), perm=100.0, r=0.2),\n",
       " PyEITAnomaly_Circle(center=array([ 0.40263513, -0.29645396]), perm=100.0, r=0.2),\n",
       " PyEITAnomaly_Circle(center=array([ 0.42062677, -0.27032041]), perm=100.0, r=0.2),\n",
       " PyEITAnomaly_Circle(center=array([ 0.43692469, -0.24309837]), perm=100.0, r=0.2),\n",
       " PyEITAnomaly_Circle(center=array([ 0.45146327, -0.21489746]), perm=100.0, r=0.2),\n",
       " PyEITAnomaly_Circle(center=array([ 0.46418397, -0.18583123]), perm=100.0, r=0.2),\n",
       " PyEITAnomaly_Circle(center=array([ 0.47503556, -0.15601672]), perm=100.0, r=0.2),\n",
       " PyEITAnomaly_Circle(center=array([ 0.48397435, -0.12557399]), perm=100.0, r=0.2),\n",
       " PyEITAnomaly_Circle(center=array([ 0.49096435, -0.09462562]), perm=100.0, r=0.2),\n",
       " PyEITAnomaly_Circle(center=array([ 0.49597741, -0.06329623]), perm=100.0, r=0.2),\n",
       " PyEITAnomaly_Circle(center=array([ 0.49899334, -0.03171196]), perm=100.0, r=0.2),\n",
       " PyEITAnomaly_Circle(center=array([ 5.0000000e-01, -1.2246468e-16]), perm=100.0, r=0.2)]"
      ]
     },
     "execution_count": 18,
     "metadata": {},
     "output_type": "execute_result"
    }
   ],
   "source": [
    "A"
   ]
  },
  {
   "cell_type": "code",
   "execution_count": 19,
   "id": "a77890d0-eda9-4198-98fe-b7232b2c627a",
   "metadata": {},
   "outputs": [
    {
     "data": {
      "text/plain": [
       "PyEITAnomaly_Circle(center=array([0.49096435, 0.09462562]), perm=100.0, r=0.2)"
      ]
     },
     "execution_count": 19,
     "metadata": {},
     "output_type": "execute_result"
    }
   ],
   "source": [
    "A[3]"
   ]
  },
  {
   "cell_type": "code",
   "execution_count": 20,
   "id": "a15ae984-c402-48cd-a453-2d6ffa742ab3",
   "metadata": {},
   "outputs": [
    {
     "data": {
      "text/plain": [
       "0.2"
      ]
     },
     "execution_count": 20,
     "metadata": {},
     "output_type": "execute_result"
    }
   ],
   "source": [
    "A[3].r"
   ]
  },
  {
   "cell_type": "code",
   "execution_count": null,
   "id": "b2faee46-78cb-4cba-9462-7cb66c56eda5",
   "metadata": {},
   "outputs": [],
   "source": []
  }
 ],
 "metadata": {
  "kernelspec": {
   "display_name": "Python 3",
   "language": "python",
   "name": "python3"
  },
  "language_info": {
   "codemirror_mode": {
    "name": "ipython",
    "version": 3
   },
   "file_extension": ".py",
   "mimetype": "text/x-python",
   "name": "python",
   "nbconvert_exporter": "python",
   "pygments_lexer": "ipython3",
   "version": "3.12.7"
  }
 },
 "nbformat": 4,
 "nbformat_minor": 5
}
