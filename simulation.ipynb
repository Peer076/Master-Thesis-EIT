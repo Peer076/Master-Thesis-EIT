{
 "cells": [
  {
   "cell_type": "markdown",
   "id": "8bd70259-db10-48e9-8ae9-b99fc3a91277",
   "metadata": {},
   "source": [
    "# Simulation\n",
    "\n",
    "[[1]](https://github.com/eitcom/pyEIT)"
   ]
  },
  {
   "cell_type": "code",
   "execution_count": 1,
   "id": "cebe790d-337e-431c-bdbd-5cdec97dca40",
   "metadata": {},
   "outputs": [],
   "source": [
    "# coding: utf-8\n",
    "\"\"\" demo on forward 2D \"\"\"\n",
    "# Copyright (c) Benyuan Liu. All Rights Reserved.\n",
    "# Distributed under the (new) BSD License. See LICENSE.txt for more info.\n",
    "from __future__ import absolute_import, division, print_function\n",
    "\n",
    "import matplotlib.pyplot as plt\n",
    "import numpy as np\n",
    "import pyeit.eit.protocol as protocol\n",
    "import pyeit.mesh as mesh\n",
    "from pyeit.eit.fem import EITForward, Forward\n",
    "from pyeit.eit.interp2d import pdegrad, sim2pts\n",
    "from pyeit.mesh.shape import thorax\n",
    "from pyeit.mesh.wrapper import PyEITAnomaly_Circle\n",
    "import os\n",
    "\n",
    "import matplotlib.pyplot as plt\n",
    "from matplotlib.patches import Circle\n",
    "from src.util import (plot_mesh, createTrajectory, create2DAnimation, define_mesh_obj, plot_mesh_permarray)"
   ]
  },
  {
   "cell_type": "code",
   "execution_count": 2,
   "id": "8a36a26a",
   "metadata": {},
   "outputs": [],
   "source": [
    "#helper = []\n",
    "#helper.append()\n",
    "\n",
    "#helper2 = np.array()\n",
    "\n",
    "\n",
    "lookup_list = []"
   ]
  },
  {
   "cell_type": "markdown",
   "id": "e97fe81b",
   "metadata": {},
   "source": [
    "**Berechnung der Trjektorien**"
   ]
  },
  {
   "cell_type": "code",
   "execution_count": 3,
   "id": "cdaac665-0688-420a-8c72-fe40e6f8192d",
   "metadata": {},
   "outputs": [
    {
     "name": "stdout",
     "output_type": "stream",
     "text": [
      "2D mesh status:\n",
      "1476 nodes, 2821 elements\n"
     ]
    }
   ],
   "source": [
    "\"\"\" 0. build mesh \"\"\"\n",
    "n_el = 16\n",
    "mesh_obj = define_mesh_obj(n_el, use_customize_shape = False)\n",
    "el_pos = mesh_obj.el_pos \n",
    "mesh_obj.print_stats()                     \n",
    "protocol_obj = protocol.create(n_el, dist_exc=4, step_meas=1, parser_meas=\"std\")   \n",
    "\n",
    "def calculateData (mesh):\n",
    "    ex_line = protocol_obj.ex_mat[3].ravel() \n",
    "    fwd = Forward(mesh)\n",
    "    f = fwd.solve(ex_line)  \n",
    "    fwd = EITForward(mesh_obj, protocol_obj)\n",
    "    f= np.real(f) \n",
    "    v = fwd.solve_eit(perm=mesh.perm)   # Dimension = 192\n",
    "    return (f, v)\n",
    "\n",
    "\n",
    "def createAnomaly (traj,Nsteps,r,r_path,r_path_variations,added_noise):\n",
    "    anglePos = np.linspace(0, 2*np.pi, Nsteps)           # P(cos(alpha)=x, sin(alpha)=y)\n",
    "    perm=10\n",
    "    mesh_new_list = []\n",
    "    for a in anglePos:\n",
    "        center = createTrajectory(traj,a,r_path, r_path_variations)\n",
    "        anomaly = PyEITAnomaly_Circle(center, r=r, perm=perm)\n",
    "        anomaly_mesh = mesh.set_perm(mesh_obj, anomaly=anomaly, background=1.0)\n",
    "        \n",
    "        if added_noise == True:\n",
    "            anomaly_mesh.perm = anomaly_mesh.perm + np.random.normal(scale=0.5, size=mesh_obj.perm_array.shape[0])\n",
    "        \n",
    "        f, v = calculateData(anomaly_mesh)\n",
    "        mesh_dict = {\"mesh\": anomaly_mesh, \"x\":center[0], \"y\":center[1], \"radius\":r, \"perm_init\":perm, \"f\":f, \"v\":v, \"anomaly\": anomaly}\n",
    "        mesh_new_list.append(mesh_dict) \n",
    "        #perm = mesh_new.perm \n",
    "    return mesh_new_list\n",
    "\n",
    "\n"
   ]
  },
  {
   "cell_type": "markdown",
   "id": "1fc41a26",
   "metadata": {},
   "source": [
    "**Erstellt Plot der Trajektorie**"
   ]
  },
  {
   "cell_type": "code",
   "execution_count": 4,
   "id": "23d6b825",
   "metadata": {},
   "outputs": [],
   "source": [
    "def checkTraj(mesh_new_list, Nstep):\n",
    "    \n",
    "    plt.figure(figsize=(10, 10))\n",
    "    \n",
    "    pts = mesh_new_list[0][\"mesh\"].node\n",
    "    tri = mesh_new_list[0][\"mesh\"].element\n",
    "    \n",
    "    plt.triplot(pts[:, 0], pts[:, 1], tri, color='gray', alpha=0.5)\n",
    "    \n",
    "    x_coords = [mesh_dict[\"x\"] for mesh_dict in mesh_new_list]\n",
    "    y_coords = [mesh_dict[\"y\"] for mesh_dict in mesh_new_list]\n",
    "    \n",
    "    plt.plot(x_coords, y_coords, '-', color='blue', alpha=0.6, \n",
    "             label='Trajektorie', linewidth=2)\n",
    "    \n",
    "    # Plottet die Anomalie-Positionen\n",
    "    num_images = Nstep\n",
    "    step_size = max(Nstep // num_images, 1)  # Schrittgröße, mindestens 1\n",
    "\n",
    "    # Berechne die Indizes, die für die Bilder verwendet werden\n",
    "    indices = np.linspace(0, Nstep - 1, num_images, dtype=int)\n",
    "\n",
    "    for i in indices:\n",
    "        plt.plot(x_coords[i], y_coords[i], 'ro', markersize=6)\n",
    "        \n",
    "        circle = Circle((x_coords[i], y_coords[i]), \n",
    "                       radius=mesh_new_list[i][\"radius\"],\n",
    "                       fill=False, \n",
    "                       color='red',\n",
    "                       alpha=0.3)\n",
    "        plt.gca().add_patch(circle)\n",
    "    \n",
    "    if hasattr(mesh_new_list[0][\"mesh\"], 'el_pos'):\n",
    "        el_pos = mesh_new_list[0][\"mesh\"].el_pos\n",
    "        plt.plot(pts[el_pos, 0], pts[el_pos, 1], 'ko', \n",
    "                markersize=6, label='Elektroden')\n",
    "    \n",
    "    plt.axis('equal')\n",
    "    \n",
    "    plt.xlabel('X-Koordinate')\n",
    "    plt.ylabel('Y-Koordinate')\n",
    "    plt.title('EIT Mesh mit Anomalie-Trajektorie')\n",
    "    plt.grid(True, linestyle='--', alpha=0.7)\n",
    "    plt.legend()\n",
    "    plt.show()\n",
    "    "
   ]
  },
  {
   "cell_type": "code",
   "execution_count": 5,
   "id": "2521826d",
   "metadata": {},
   "outputs": [],
   "source": [
    "def plotMesh(mesh_new_list):\n",
    "\n",
    "    for i in range(2):\n",
    "        plot_mesh(mesh_new_list[i][\"mesh\"])"
   ]
  },
  {
   "cell_type": "code",
   "execution_count": 6,
   "id": "3a4c8a61",
   "metadata": {},
   "outputs": [],
   "source": [
    "\n",
    "#mesh_obj.perm_array = gamma  \n",
    "# Rekonstruktion gamma_hat \n",
    "# v, gamma, anomalie (wegen Position und Größe)\n",
    "# Stage 1 bis 3 ohne LSTM implementieren und trainieren \n",
    "#mesh.__dict__"
   ]
  },
  {
   "cell_type": "code",
   "execution_count": 13,
   "id": "cf02a557",
   "metadata": {},
   "outputs": [],
   "source": [
    "def generateData (traj,Nstep,r_anomaly,r_path, r_path_variations, added_noise, lookup_list,saveData,createGif):\n",
    "    \n",
    "    mesh_new_list = createAnomaly(traj, Nstep, r_anomaly, r_path, r_path_variations, added_noise)\n",
    "    if saveData: \n",
    "        \n",
    "        base_dataset_folder = \"data_set\"\n",
    "        os.makedirs(base_dataset_folder, exist_ok=True)\n",
    "\n",
    "        base_name = \"data\"\n",
    "\n",
    "        counter = 1\n",
    "        folder_name = os.path.join(base_dataset_folder, base_name)\n",
    "        \n",
    "        \n",
    "        while os.path.exists(folder_name):\n",
    "            \n",
    "            folder_name = os.path.join(base_dataset_folder, f\"{base_name}{counter}\")\n",
    "            \n",
    "            counter += 1\n",
    "        os.makedirs(folder_name) \n",
    "\n",
    "        lookup = {\n",
    "                \"folder\": folder_name,\n",
    "                \"Trajectory\": traj,\n",
    "                \"Nstep\": Nstep,\n",
    "                \"r_anomaly\": r_anomaly,\n",
    "                \"r_path\": r_path,\n",
    "                \"r_path_variations\": r_path_variations,\n",
    "                \"added_noise\": added_noise\n",
    "        }\n",
    "        lookup_file_path = os.path.join(base_dataset_folder, \"parameter_log.txt\")\n",
    "        \n",
    "        with open(lookup_file_path, 'a') as f:\n",
    "            f.write(f\"Folder: {folder_name}\\n\")\n",
    "            f.write(f\"Nstep: {Nstep}\\n\")\n",
    "            f.write(f\"r_anomaly: {r_anomaly}\\n\")\n",
    "            f.write(f\"r_path: {r_path}\\n\")\n",
    "            f.write(f\"r_path_variantions: {r_path_variations}\\n\")\n",
    "            f.write(f\"added_noise: {added_noise}\\n\")\n",
    "            f.write(\"-\" * 40 + \"\\n\")  # Trennlinie zwischen Einträgen    \n",
    "      \n",
    "\n",
    "        for i in range(len(mesh_new_list)):\n",
    "            file_path = os.path.join(folder_name, f\"sample_{i:06d}.npz\")  \n",
    "            np.savez(file_path, v=mesh_new_list[i][\"v\"], anomaly=mesh_new_list[i][\"anomaly\"], gamma = mesh_new_list[i][\"mesh\"].perm)\n",
    "    \n",
    "    #checkTraj(mesh_new_list,Nstep)\n",
    "\n",
    "    if createGif==True:\n",
    "        create2DAnimation(traj,mesh_new_list,protocol_obj,mesh_obj)  \n",
    "\n",
    "    return mesh_new_list"
   ]
  },
  {
   "cell_type": "markdown",
   "id": "f2e2f95e",
   "metadata": {},
   "source": [
    "**RUN Simulation**"
   ]
  },
  {
   "cell_type": "code",
   "execution_count": 17,
   "id": "29da3472",
   "metadata": {},
   "outputs": [
    {
     "data": {
      "text/plain": [
       "((2821,), (192,))"
      ]
     },
     "execution_count": 17,
     "metadata": {},
     "output_type": "execute_result"
    }
   ],
   "source": [
    "Nstep = 10                    # Anzahl der Steps\n",
    "r_anomaly = 0.2                  # Radius der Anomaly\n",
    "r_path = 0.5                     # Radius der Kreisbahn \n",
    "traj = \"circle\"\n",
    "saveData = False\n",
    "createGif = False\n",
    "\n",
    "r_path_variations = False\n",
    "added_noise = False\n",
    "\n",
    "mesh_new_list = generateData(traj, Nstep, r_anomaly, r_path, r_path_variations, added_noise, lookup_list, saveData,createGif)\n",
    "\n",
    "mesh_new_list[0][\"mesh\"].perm.shape, mesh_new_list[0][\"v\"].shape\n",
    "# print(lookup_list)\n",
    "\n",
    "#TODO: neue Trajektorien einbauen\n",
    "#TODO: Elektrodenkonfiguration und Anzahl anpassbar machen\n"
   ]
  },
  {
   "cell_type": "code",
   "execution_count": null,
   "id": "f958e4cb-714e-43ff-8e30-c0dbf782801a",
   "metadata": {},
   "outputs": [],
   "source": []
  },
  {
   "cell_type": "code",
   "execution_count": null,
   "id": "229183af-2ebc-4e7d-b87c-d8fbfdac61a4",
   "metadata": {},
   "outputs": [],
   "source": []
  }
 ],
 "metadata": {
  "kernelspec": {
   "display_name": "Python 3 (ipykernel)",
   "language": "python",
   "name": "python3"
  },
  "language_info": {
   "codemirror_mode": {
    "name": "ipython",
    "version": 3
   },
   "file_extension": ".py",
   "mimetype": "text/x-python",
   "name": "python",
   "nbconvert_exporter": "python",
   "pygments_lexer": "ipython3",
   "version": "3.12.2"
  }
 },
 "nbformat": 4,
 "nbformat_minor": 5
}
