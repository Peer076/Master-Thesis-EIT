{
 "cells": [
  {
   "cell_type": "markdown",
   "id": "8bd70259-db10-48e9-8ae9-b99fc3a91277",
   "metadata": {},
   "source": [
    "# Simulation\n",
    "\n",
    "[[1]](https://github.com/eitcom/pyEIT)"
   ]
  },
  {
   "cell_type": "code",
   "execution_count": 2,
   "id": "cebe790d-337e-431c-bdbd-5cdec97dca40",
   "metadata": {},
   "outputs": [],
   "source": [
    "# coding: utf-8\n",
    "\"\"\" demo on forward 2D \"\"\"\n",
    "# Copyright (c) Benyuan Liu. All Rights Reserved.\n",
    "# Distributed under the (new) BSD License. See LICENSE.txt for more info.\n",
    "from __future__ import absolute_import, division, print_function\n",
    "\n",
    "import matplotlib.pyplot as plt\n",
    "import numpy as np\n",
    "import pyeit.eit.protocol as protocol\n",
    "import pyeit.mesh as mesh\n",
    "from pyeit.eit.fem import EITForward, Forward\n",
    "from pyeit.eit.interp2d import pdegrad, sim2pts\n",
    "from pyeit.mesh.shape import thorax\n",
    "from pyeit.mesh.wrapper import PyEITAnomaly_Circle\n",
    "import os\n",
    "from tqdm import tqdm\n",
    "import matplotlib.pyplot as plt\n",
    "from matplotlib.patches import Circle\n",
    "from src.util import (plot_mesh, create_trajectory, create2DAnimation, define_mesh_obj, plot_mesh_permarray)"
   ]
  },
  {
   "cell_type": "markdown",
   "id": "7c124cc3-ebb9-48ff-b4a3-8eeb5a63c736",
   "metadata": {},
   "source": [
    "## Erstellung der Simulationsdaten"
   ]
  },
  {
   "cell_type": "code",
   "execution_count": 3,
   "id": "cdaac665-0688-420a-8c72-fe40e6f8192d",
   "metadata": {},
   "outputs": [
    {
     "name": "stdout",
     "output_type": "stream",
     "text": [
      "2D mesh status:\n",
      "1486 nodes, 2840 elements\n"
     ]
    }
   ],
   "source": [
    "\"\"\" 0. build mesh \"\"\"\n",
    "n_el = 32\n",
    "mesh_obj = mesh.create(n_el, h0=0.05)\n",
    "el_pos = mesh_obj.el_pos \n",
    "mesh_obj.print_stats()                     \n",
    "protocol_obj = protocol.create(n_el, dist_exc=n_el//2, step_meas=1, parser_meas=\"meas_current\")   \n",
    "\n",
    "def calculateData(mesh):\n",
    "    ex_line = protocol_obj.ex_mat[0].ravel() \n",
    "    fwd = Forward(mesh)\n",
    "    f = fwd.solve(ex_line)  \n",
    "    fwd = EITForward(mesh_obj, protocol_obj)\n",
    "    f= np.real(f) \n",
    "    v = fwd.solve_eit(perm=mesh.perm)   \n",
    "    return (f, v)\n",
    "\n",
    "def createAnomaly(traj, base_points, r, r_path, r_path_variations, bound, added_noise):\n",
    "    \"\"\"\n",
    "    Create anomaly with point count scaled by radius\n",
    "    \n",
    "    Parameters:\n",
    "    traj (str): Trajectory type\n",
    "    base_points (int): Number of points for reference radius (0.2)\n",
    "    r (float): Radius of anomaly\n",
    "    r_path (float): Radius of trajectory path\n",
    "    r_path_variations (bool): Whether to vary path radius\n",
    "    bound (float): Boundary parameter\n",
    "    added_noise (bool): Whether to add noise\n",
    "    \"\"\"\n",
    "    # Debug: Print input parameters\n",
    "    print(f\"Starting createAnomaly with parameters:\")\n",
    "    print(f\"traj: {traj}, base_points: {base_points}, r: {r}, r_path: {r_path}\")\n",
    "    print(f\"r_path_variations: {r_path_variations}, bound: {bound}, added_noise: {added_noise}\")\n",
    "    \n",
    "    # Calculate scaled number of points based on path radius\n",
    "    # Using 0.2 as reference radius\n",
    "    ref_radius = 0.25\n",
    "    scale_factor = r_path / ref_radius\n",
    "    Nsteps = int(round(base_points * scale_factor))\n",
    "    \n",
    "    print(f\"Scaled points: {Nsteps} (scale factor: {scale_factor:.2f})\")\n",
    "    \n",
    "    # Create trajectory with scaled points\n",
    "    center_pos = create_trajectory(traj, r_path, Nsteps)\n",
    "    \n",
    "    mesh_new_list = []\n",
    "    perm = 0.9\n",
    "    \n",
    "    # Use tqdm for progress display\n",
    "    from tqdm import tqdm\n",
    "    for i, center in enumerate(tqdm(center_pos, desc=\"Processing points\")):\n",
    "        anomaly = PyEITAnomaly_Circle(center, r=r, perm=perm)\n",
    "        anomaly_mesh = mesh.set_perm(mesh_obj, anomaly=anomaly, background=0.1)\n",
    "            \n",
    "        if added_noise:\n",
    "            anomaly_mesh.perm = anomaly_mesh.perm + np.random.normal(\n",
    "                scale=0.05, \n",
    "                size=anomaly_mesh.perm_array.shape[0]\n",
    "            )\n",
    "            \n",
    "        f, v = calculateData(anomaly_mesh)\n",
    "            \n",
    "        mesh_dict = {\n",
    "            \"mesh\": anomaly_mesh,\n",
    "            \"x\": center[0],\n",
    "            \"y\": center[1],\n",
    "            \"radius\": r,\n",
    "            \"perm_init\": perm,\n",
    "            \"f\": f,\n",
    "            \"v\": v,\n",
    "            \"anomaly\": anomaly,\n",
    "        }\n",
    "        mesh_new_list.append(mesh_dict)\n",
    "    \n",
    "    return mesh_new_list"
   ]
  },
  {
   "cell_type": "markdown",
   "id": "49ffd9d7-f271-4ee4-b736-8b906449da51",
   "metadata": {},
   "source": [
    "## Erstellt Plot der Trajektorie"
   ]
  },
  {
   "cell_type": "code",
   "execution_count": 4,
   "id": "23d6b825",
   "metadata": {},
   "outputs": [],
   "source": [
    "def checkTraj(mesh_new_list, Nstep):\n",
    "    plt.figure(figsize=(10, 10))\n",
    "    \n",
    "    pts = mesh_new_list[0][\"mesh\"].node\n",
    "    tri = mesh_new_list[0][\"mesh\"].element\n",
    "    \n",
    "    plt.triplot(pts[:, 0], pts[:, 1], tri, color='gray', alpha=0.5)\n",
    "    \n",
    "    x_coords = [mesh_dict[\"x\"] for mesh_dict in mesh_new_list]\n",
    "    y_coords = [mesh_dict[\"y\"] for mesh_dict in mesh_new_list]\n",
    "    \n",
    "    plt.plot(x_coords, y_coords, '-', color='blue', alpha=0.6, \n",
    "             label='Trajektorie', linewidth=2)\n",
    "    \n",
    "    num_images = Nstep\n",
    "    step_size = max(Nstep // num_images, 1)  \n",
    "\n",
    "    indices = np.linspace(0, Nstep - 1, num_images, dtype=int)\n",
    "\n",
    "    for i in indices:\n",
    "        plt.plot(x_coords[i], y_coords[i], 'ro', markersize=6)\n",
    "        \n",
    "        circle = Circle((x_coords[i], y_coords[i]), \n",
    "                       radius=mesh_new_list[i][\"radius\"],\n",
    "                       fill=False, \n",
    "                       color='red',\n",
    "                       alpha=0.3)\n",
    "        plt.gca().add_patch(circle)\n",
    "    \n",
    "    if hasattr(mesh_new_list[0][\"mesh\"], 'el_pos'):\n",
    "        el_pos = mesh_new_list[0][\"mesh\"].el_pos\n",
    "        plt.plot(pts[el_pos, 0], pts[el_pos, 1], 'ko', \n",
    "                markersize=6, label='Elektroden')\n",
    "    \n",
    "    plt.axis('equal')\n",
    "    \n",
    "    plt.xlabel('X-Koordinate')\n",
    "    plt.ylabel('Y-Koordinate')\n",
    "    plt.title('EIT Mesh mit Anomalie-Trajektorie')\n",
    "    plt.grid(True, linestyle='--', alpha=0.7)\n",
    "    plt.legend()\n",
    "    plt.show()\n",
    "    \n",
    "    "
   ]
  },
  {
   "cell_type": "markdown",
   "id": "e76e98da-af18-4d7e-ae92-c794bec2898d",
   "metadata": {},
   "source": [
    "## Ruft Funktionen auf und speichert Simulationsdaten"
   ]
  },
  {
   "cell_type": "code",
   "execution_count": 5,
   "id": "cf02a557",
   "metadata": {},
   "outputs": [],
   "source": [
    "def generateData (traj,Nbase,r_anomaly,r_path, r_path_variations, bound, added_noise, saveData,createGif):\n",
    "    \n",
    "    mesh_new_list = createAnomaly(traj, Nbase, r_anomaly, r_path, r_path_variations, bound, added_noise)\n",
    "    if saveData: \n",
    "        \n",
    "        base_dataset_folder = \"data_set\"\n",
    "        os.makedirs(base_dataset_folder, exist_ok=True)\n",
    "\n",
    "        base_name = \"data\"\n",
    "\n",
    "        counter = 1\n",
    "        folder_name = os.path.join(base_dataset_folder, base_name)\n",
    "        \n",
    "        \n",
    "        while os.path.exists(folder_name):\n",
    "            \n",
    "            folder_name = os.path.join(base_dataset_folder, f\"{base_name}{counter}\")\n",
    "            \n",
    "            counter += 1\n",
    "        os.makedirs(folder_name) \n",
    "\n",
    "        lookup_file_path = os.path.join(base_dataset_folder, \"parameter_log.txt\")\n",
    "        ref_radius = 0.25\n",
    "        scale_factor = r_path / ref_radius\n",
    "        Nstep = int(Nbase * scale_factor)\n",
    "        \n",
    "        with open(lookup_file_path, 'a') as f:\n",
    "            f.write(f\"Folder: {folder_name}\\n\")\n",
    "            f.write(f\"Trajectory: {traj}\\n\")\n",
    "            f.write(f\"Nstep: {Nstep}\\n\")\n",
    "            f.write(f\"r_anomaly: {r_anomaly}\\n\")\n",
    "            f.write(f\"r_path: {r_path}\\n\")\n",
    "            f.write(f\"r_path_variantions: {r_path_variations}\\n\")\n",
    "            f.write(f\"bound: {bound} \\n\")\n",
    "            f.write(f\"added_noise: {added_noise}\\n\")\n",
    "            f.write(\"-\" * 40 + \"\\n\")  # Trennlinie zwischen Einträgen    \n",
    "      \n",
    "\n",
    "        for i in range(len(mesh_new_list)):\n",
    "            file_path = os.path.join(folder_name, f\"sample_{i:06d}.npz\")  \n",
    "            np.savez(file_path, v=mesh_new_list[i][\"v\"], anomaly=mesh_new_list[i][\"anomaly\"], gamma = mesh_new_list[i][\"mesh\"].perm)\n",
    "\n",
    "    if createGif==True:\n",
    "        create2DAnimation(traj,mesh_new_list,protocol_obj,mesh_obj)  \n",
    "\n",
    "    #plotMesh(mesh_new_list)\n",
    "\n",
    "    checkTraj(mesh_new_list,Nstep)\n",
    "\n",
    "    return mesh_new_list"
   ]
  },
  {
   "cell_type": "markdown",
   "id": "5ca259ae-ca5c-42b6-9c68-5ab86036a847",
   "metadata": {},
   "source": [
    "## Hier kann Simulation ausgeführt und Parameter angepasst werden"
   ]
  },
  {
   "cell_type": "code",
   "execution_count": null,
   "id": "29da3472",
   "metadata": {},
   "outputs": [
    {
     "name": "stdout",
     "output_type": "stream",
     "text": [
      "Starting createAnomaly with parameters:\n",
      "traj: Kreis, base_points: 5000, r: 0.15, r_path: 0.75\n",
      "r_path_variations: False, bound: 0.1, added_noise: True\n",
      "Scaled points: 15000 (scale factor: 3.00)\n"
     ]
    },
    {
     "name": "stderr",
     "output_type": "stream",
     "text": [
      "Processing points:  76%|███████▌  | 11404/15000 [36:07<11:28,  5.22it/s]"
     ]
    }
   ],
   "source": [
    "Nbase = 5000                 # Base points for r_path = 0.2\n",
    "r_anomaly = 0.15          # Radius of anomaly\n",
    "r_path = 0.75               # Radius of trajectory\n",
    "traj = \"Kreis\"\n",
    "saveData = True\n",
    "createGif = False\n",
    "r_path_variations = False\n",
    "bound = 0.1\n",
    "added_noise = True\n",
    "\n",
    "\n",
    "mesh_new_list = generateData(traj, Nbase, r_anomaly, r_path, r_path_variations, bound, added_noise, saveData,createGif)"
   ]
  },
  {
   "cell_type": "code",
   "execution_count": 6,
   "id": "4881d8b3-4f39-4ac7-be5f-9c6811fad27f",
   "metadata": {},
   "outputs": [],
   "source": [
    "#SNR of Noise mit einbauen!\n",
    "#Helix mit variablen Windungsdichten, und Radius \n",
    "#nan Werte kannst du aus dem Array schmeißen, würde ich dann nur in der Arbeit erwähnen, dass nur die werte mit einbezogen werden\n",
    "#konnten, wo eine Reconstruction erfolgt ist "
   ]
  }
 ],
 "metadata": {
  "kernelspec": {
   "display_name": "Python 3 (ipykernel)",
   "language": "python",
   "name": "python3"
  },
  "language_info": {
   "codemirror_mode": {
    "name": "ipython",
    "version": 3
   },
   "file_extension": ".py",
   "mimetype": "text/x-python",
   "name": "python",
   "nbconvert_exporter": "python",
   "pygments_lexer": "ipython3",
   "version": "3.12.2"
  }
 },
 "nbformat": 4,
 "nbformat_minor": 5
}
